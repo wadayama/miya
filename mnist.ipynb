{
  "nbformat": 4,
  "nbformat_minor": 0,
  "metadata": {
    "colab": {
      "name": "mnist.ipynb",
      "version": "0.3.2",
      "provenance": [],
      "collapsed_sections": []
    },
    "kernelspec": {
      "display_name": "Python 3",
      "language": "python",
      "name": "python3"
    }
  },
  "cells": [
    {
      "metadata": {
        "id": "NN1yt0s3xSeu",
        "colab_type": "text"
      },
      "cell_type": "markdown",
      "source": [
        "#  MNIST 数字認識プログラム"
      ]
    },
    {
      "metadata": {
        "id": "GGS3oNRixn5-",
        "colab_type": "text"
      },
      "cell_type": "markdown",
      "source": [
        "## pytorch 最新版をインストールする"
      ]
    },
    {
      "metadata": {
        "id": "JeQ-MB5WxP1j",
        "colab_type": "code",
        "colab": {}
      },
      "cell_type": "code",
      "source": [
        "# http://pytorch.org/\n",
        "from os import path\n",
        "from wheel.pep425tags import get_abbr_impl, get_impl_ver, get_abi_tag\n",
        "platform = '{}{}-{}'.format(get_abbr_impl(), get_impl_ver(), get_abi_tag())\n",
        "\n",
        "accelerator = 'cu80' if path.exists('/opt/bin/nvidia-smi') else 'cpu'\n",
        "\n",
        "!pip install -q http://download.pytorch.org/whl/{accelerator}/torch-0.4.1-{platform}-linux_x86_64.whl torchvision\n",
        "!pip install tqdm\n",
        "import torch\n",
        "print(torch.__version__)"
      ],
      "execution_count": 0,
      "outputs": []
    },
    {
      "metadata": {
        "id": "x7xEoF6uxzl6",
        "colab_type": "text"
      },
      "cell_type": "markdown",
      "source": [
        "## MNIST データセットをダウンロードする"
      ]
    },
    {
      "metadata": {
        "id": "xtnSSVxuxP1m",
        "colab_type": "code",
        "colab": {}
      },
      "cell_type": "code",
      "source": [
        "import matplotlib.pyplot as plt\n",
        "\n",
        "\n",
        "import torchvision.transforms as transforms\n",
        "from torch.utils.data import DataLoader\n",
        "from torchvision.datasets import MNIST\n",
        "\n",
        "# データセットをダウンロード\n",
        "mnist_data = MNIST('~/tmp/mnist', train=True, download=True, transform=transforms.ToTensor())\n",
        "data_loader = DataLoader(mnist_data,\n",
        "                         batch_size=4,\n",
        "                         shuffle=False)"
      ],
      "execution_count": 0,
      "outputs": []
    },
    {
      "metadata": {
        "id": "MEU5pKC4xP1r",
        "colab_type": "code",
        "colab": {}
      },
      "cell_type": "code",
      "source": [
        "# 中身を見てみる\n",
        "data_iter = iter(data_loader)\n",
        "images, labels = data_iter.next()"
      ],
      "execution_count": 0,
      "outputs": []
    },
    {
      "metadata": {
        "id": "JssfyddUyCKc",
        "colab_type": "text"
      },
      "cell_type": "markdown",
      "source": [
        "## データの中身を表示してみる"
      ]
    },
    {
      "metadata": {
        "id": "406Xn3jJxP1t",
        "colab_type": "code",
        "colab": {}
      },
      "cell_type": "code",
      "source": [
        "# matplotlibで1つ目のデータを可視化してみる\n",
        "npimg = images[1].numpy()\n",
        "npimg = npimg.reshape((28, 28))\n",
        "plt.imshow(npimg, cmap='gray')\n",
        "print('Label:', labels[0])"
      ],
      "execution_count": 0,
      "outputs": []
    },
    {
      "metadata": {
        "id": "4GhL6mOOyIpn",
        "colab_type": "text"
      },
      "cell_type": "markdown",
      "source": [
        "## 訓練データとテストデータを準備"
      ]
    },
    {
      "metadata": {
        "id": "WoYNhRf_xP1w",
        "colab_type": "code",
        "colab": {}
      },
      "cell_type": "code",
      "source": [
        "train_data = MNIST('~/tmp/mnist', train=True, download=True, transform=transforms.ToTensor())\n",
        "train_loader = DataLoader(mnist_data,\n",
        "                         batch_size=4,\n",
        "                         shuffle=True)\n",
        "test_data = MNIST('~/tmp/mnist', train=False, download=True, transform=transforms.ToTensor())\n",
        "test_loader = DataLoader(test_data,\n",
        "                         batch_size=4,\n",
        "                         shuffle=False)"
      ],
      "execution_count": 0,
      "outputs": []
    },
    {
      "metadata": {
        "id": "3S1gI3w10S_6",
        "colab_type": "text"
      },
      "cell_type": "markdown",
      "source": [
        "## ニューラルネットワークの定義"
      ]
    },
    {
      "metadata": {
        "id": "fC8Ay5SNxP1y",
        "colab_type": "code",
        "colab": {}
      },
      "cell_type": "code",
      "source": [
        "from torch.autograd import Variable\n",
        "import torch.nn as nn\n",
        "import torch.nn.functional as F\n",
        "\n",
        "class Net(nn.Module):\n",
        "    def __init__(self):\n",
        "        super().__init__()\n",
        "        self.l1 = nn.Linear(28 * 28, 50)\n",
        "        self.l2 = nn.Linear(50, 10)\n",
        "        \n",
        "    def forward(self, x):\n",
        "        x = x.view(-1, 28 * 28)\n",
        "        x = torch.relu(self.l1(x))\n",
        "        x = torch.relu(self.l2(x))\n",
        "        return x\n",
        "    \n",
        "net = Net()"
      ],
      "execution_count": 0,
      "outputs": []
    },
    {
      "metadata": {
        "id": "O9FA7MAg-vGv",
        "colab_type": "text"
      },
      "cell_type": "markdown",
      "source": [
        "## コスト関数と最適化手法を定義"
      ]
    },
    {
      "metadata": {
        "id": "HndjguUyxP10",
        "colab_type": "code",
        "colab": {}
      },
      "cell_type": "code",
      "source": [
        "import torch.optim as optim\n",
        "\n",
        "criterion = nn.CrossEntropyLoss()\n",
        "optimizer = optim.SGD(net.parameters(), lr=0.01)"
      ],
      "execution_count": 0,
      "outputs": []
    },
    {
      "metadata": {
        "id": "KeW3k94W-q_8",
        "colab_type": "text"
      },
      "cell_type": "markdown",
      "source": [
        "## 訓練ループ"
      ]
    },
    {
      "metadata": {
        "id": "YLbtx8IaxP12",
        "colab_type": "code",
        "colab": {}
      },
      "cell_type": "code",
      "source": [
        "for epoch in range(3):\n",
        "    running_loss = 0.0\n",
        "    for i, data in enumerate(train_loader):\n",
        "        inputs, labels = data        \n",
        "        \n",
        "        # 勾配情報をリセット\n",
        "        optimizer.zero_grad()\n",
        "        \n",
        "        # 順伝播\n",
        "        outputs = net(inputs)\n",
        "        \n",
        "        # ロスの計算\n",
        "        loss = criterion(outputs, labels)\n",
        "        \n",
        "        # 逆伝播\n",
        "        loss.backward()\n",
        "        \n",
        "        # パラメータの更新\n",
        "        optimizer.step()\n",
        "        \n",
        "        running_loss += loss.item()\n",
        "        \n",
        "        if i % 5000 == 4999:\n",
        "            print('%d %d loss: %.3f' % (epoch + 1, i + 1, running_loss / 1000))\n",
        "            running_loss = 0.0\n",
        "            \n",
        "print('Finished Training')"
      ],
      "execution_count": 0,
      "outputs": []
    },
    {
      "metadata": {
        "id": "pTJzQxl_06ai",
        "colab_type": "text"
      },
      "cell_type": "markdown",
      "source": [
        "## 認識率の計算"
      ]
    },
    {
      "metadata": {
        "id": "PqolV_2ExP14",
        "colab_type": "code",
        "colab": {}
      },
      "cell_type": "code",
      "source": [
        "import torch\n",
        "\n",
        "correct = 0\n",
        "total = 0\n",
        "for data in test_loader:\n",
        "    inputs, labels = data\n",
        "    outputs = net(Variable(inputs))\n",
        "    _, predicted = torch.max(outputs.data, 1)\n",
        "    total += labels.size(0)\n",
        "    correct += (predicted == labels).sum()\n",
        "    \n",
        "print('Accuracy %d / %d' % (correct, total))"
      ],
      "execution_count": 0,
      "outputs": []
    },
    {
      "metadata": {
        "id": "sEwjAjPH9z8E",
        "colab_type": "text"
      },
      "cell_type": "markdown",
      "source": [
        "## 認識の例"
      ]
    },
    {
      "metadata": {
        "id": "G9qoR9q9xP17",
        "colab_type": "code",
        "colab": {}
      },
      "cell_type": "code",
      "source": [
        "test_iter = iter(test_loader)\n",
        "inputs, labels = test_iter.next()\n",
        "\n",
        "\n",
        "outputs = net(Variable(inputs))\n",
        "_, predicted = torch.max(outputs.data, 1)\n",
        "\n",
        "plt.imshow(inputs[0].numpy().reshape(28, 28), cmap='gray')\n",
        "print('Estimated Label:', predicted[0].item())\n",
        "print('True      Label:', labels[0].item())"
      ],
      "execution_count": 0,
      "outputs": []
    }
  ]
}