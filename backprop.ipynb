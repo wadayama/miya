{
  "nbformat": 4,
  "nbformat_minor": 0,
  "metadata": {
    "colab": {
      "name": "backprop.ipynb",
      "version": "0.3.2",
      "provenance": [],
      "collapsed_sections": []
    },
    "kernelspec": {
      "name": "python3",
      "display_name": "Python 3"
    }
  },
  "cells": [
    {
      "metadata": {
        "id": "VepISgYVrw4j",
        "colab_type": "text"
      },
      "cell_type": "markdown",
      "source": [
        "# AND関数の学習"
      ]
    },
    {
      "metadata": {
        "id": "u7835iOjsEp4",
        "colab_type": "text"
      },
      "cell_type": "markdown",
      "source": [
        "## pytorchの最新版をインストールする"
      ]
    },
    {
      "metadata": {
        "id": "E8Au4u5Rj0nW",
        "colab_type": "code",
        "colab": {}
      },
      "cell_type": "code",
      "source": [
        "# http://pytorch.org/\n",
        "from os import path\n",
        "from wheel.pep425tags import get_abbr_impl, get_impl_ver, get_abi_tag\n",
        "platform = '{}{}-{}'.format(get_abbr_impl(), get_impl_ver(), get_abi_tag())\n",
        "\n",
        "accelerator = 'cu80' if path.exists('/opt/bin/nvidia-smi') else 'cpu'\n",
        "\n",
        "!pip install -q http://download.pytorch.org/whl/{accelerator}/torch-0.4.1-{platform}-linux_x86_64.whl torchvision\n",
        "!pip install tqdm\n",
        "import torch\n",
        "print(torch.__version__)\n"
      ],
      "execution_count": 0,
      "outputs": []
    },
    {
      "metadata": {
        "id": "UV9Vec8ZkQ5W",
        "colab_type": "text"
      },
      "cell_type": "markdown",
      "source": [
        "## 必要なパッケージのインポート"
      ]
    },
    {
      "metadata": {
        "id": "n5MvAxAOj7Le",
        "colab_type": "code",
        "colab": {}
      },
      "cell_type": "code",
      "source": [
        "import torch\n",
        "from torch.autograd import Variable\n",
        "import torch.nn as nn        # ネットワーク構築用\n",
        "import torch.optim as optim  # 最適化関数\n",
        "import torch.nn.functional as F  # ネットワーク用の様々な関数\n"
      ],
      "execution_count": 0,
      "outputs": []
    },
    {
      "metadata": {
        "id": "NSEkME4akk8L",
        "colab_type": "text"
      },
      "cell_type": "markdown",
      "source": [
        "## グローバル変数の定義"
      ]
    },
    {
      "metadata": {
        "id": "v60RivIgj-rD",
        "colab_type": "code",
        "colab": {}
      },
      "cell_type": "code",
      "source": [
        "mb_size = 10"
      ],
      "execution_count": 0,
      "outputs": []
    },
    {
      "metadata": {
        "id": "2ooKNCFlkpuy",
        "colab_type": "text"
      },
      "cell_type": "markdown",
      "source": [
        "## ニューラルネットワークの定義"
      ]
    },
    {
      "metadata": {
        "id": "f5_wW7aPkABi",
        "colab_type": "code",
        "colab": {}
      },
      "cell_type": "code",
      "source": [
        "class Net(nn.Module):\n",
        "    def __init__(self):\n",
        "        super(Net, self).__init__()\n",
        "        self.fc1 = nn.Linear(2, 2)  # 名前はlinear だが Ax + b のアフィン変換の形\n",
        "        self.fc2 = nn.Linear(2, 2)\n",
        "\n",
        "    def forward(self, x):\n",
        "        x = torch.sigmoid(self.fc1(x))\n",
        "        x = torch.sigmoid(self.fc2(x))\n",
        "        return x"
      ],
      "execution_count": 0,
      "outputs": []
    },
    {
      "metadata": {
        "id": "MgTnFyZwk0P1",
        "colab_type": "text"
      },
      "cell_type": "markdown",
      "source": [
        "## インスタンス作成"
      ]
    },
    {
      "metadata": {
        "id": "sVGt1XyMkDOg",
        "colab_type": "code",
        "colab": {}
      },
      "cell_type": "code",
      "source": [
        "model = Net()  # モデルインスタンス作成\n",
        "\n",
        "# Loss関数の指定\n",
        "loss_func = nn.MSELoss()\n",
        "\n",
        "# Optimizerの指定\n",
        "optimizer = optim.Adam(model.parameters(), lr=0.1)\n",
        "\n",
        "# データ全てのトータルロス\n",
        "running_loss = 0.0"
      ],
      "execution_count": 0,
      "outputs": []
    },
    {
      "metadata": {
        "id": "Omuqklpbk7NF",
        "colab_type": "text"
      },
      "cell_type": "markdown",
      "source": [
        "## 訓練ループ"
      ]
    },
    {
      "metadata": {
        "id": "KZRWU16-kGZh",
        "colab_type": "code",
        "colab": {}
      },
      "cell_type": "code",
      "source": [
        "# 訓練ループ\n",
        "for i in range(100):\n",
        "    # フィードするデータの作成\n",
        "    inputs = torch.bernoulli(0.5 * torch.ones(mb_size, 2))  # 確率0.5で1となるベルヌーイ分布\n",
        "    labels = torch.Tensor(mb_size, 2)\n",
        "    for j in range(mb_size):\n",
        "        if (inputs[j, 0] == 1.0) and (inputs[j, 1] == 1.0):\n",
        "            labels[j, 0] = 1.0\n",
        "            labels[j, 1] = 0.0\n",
        "        else:\n",
        "            labels[j, 0] = 0.0\n",
        "            labels[j, 1] = 1.0\n",
        "\n",
        "    optimizer.zero_grad()  # optimizerの初期化\n",
        "\n",
        "    outputs = model(inputs)  # 推論計算\n",
        "    loss = loss_func(outputs, labels)  # 損失関数の定義\n",
        "\n",
        "    loss.backward()  # バックプロパゲーション\n",
        "    optimizer.step()  # パラメータ更新\n",
        "\n",
        "    # ロスの表示\n",
        "    print('[%5d] loss: %.3f' % (i + 1, loss.item()))"
      ],
      "execution_count": 0,
      "outputs": []
    },
    {
      "metadata": {
        "id": "hzMMll4qk-rS",
        "colab_type": "text"
      },
      "cell_type": "markdown",
      "source": [
        "## 学習結果の評価"
      ]
    },
    {
      "metadata": {
        "id": "khOsX_dakI6M",
        "colab_type": "code",
        "colab": {}
      },
      "cell_type": "code",
      "source": [
        "# 性能の評価\n",
        "inputs = torch.Tensor(1, 2)\n",
        "inputs.data[0, 0] = 0.0\n",
        "inputs.data[0, 1] = 0.0\n",
        "\n",
        "outputs = model(inputs)\n",
        "print('0 & 0 = %.4f' % (outputs.data[0, 0]))\n",
        "\n",
        "inputs.data[0, 0] = 0.0\n",
        "inputs.data[0, 1] = 1.0\n",
        "outputs = model(inputs)\n",
        "print('0 & 1 = %.4f' % (outputs.data[0, 0]))\n",
        "\n",
        "inputs.data[0, 0] = 1.0\n",
        "inputs.data[0, 1] = 0.0\n",
        "outputs = model(inputs)\n",
        "print('1 & 0 = %.4f' % (outputs.data[0, 0]))\n",
        "\n",
        "inputs.data[0, 0] = 1.0\n",
        "inputs.data[0, 1] = 1.0\n",
        "outputs = model(inputs)\n",
        "print('1 & 1 = %.4f' % (outputs.data[0, 0]))\n"
      ],
      "execution_count": 0,
      "outputs": []
    }
  ]
}