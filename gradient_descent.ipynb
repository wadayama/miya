{
  "nbformat": 4,
  "nbformat_minor": 0,
  "metadata": {
    "colab": {
      "name": "gradient_descent.ipynb のコピー",
      "version": "0.3.2",
      "provenance": [],
      "collapsed_sections": []
    },
    "kernelspec": {
      "display_name": "Python 3",
      "language": "python",
      "name": "python3"
    }
  },
  "cells": [
    {
      "metadata": {
        "id": "bTPWD8_Bde6e",
        "colab_type": "text"
      },
      "cell_type": "markdown",
      "source": [
        "# 勾配法プログラム"
      ]
    },
    {
      "metadata": {
        "id": "d2IZULrQde6h",
        "colab_type": "text"
      },
      "cell_type": "markdown",
      "source": [
        "目的関数 $\\frac 1 2 x^2 +5  y^2$の最小化を行う。"
      ]
    },
    {
      "metadata": {
        "id": "7RwMuJjdde6i",
        "colab_type": "text"
      },
      "cell_type": "markdown",
      "source": [
        "## $x$の偏微分値を返す関数 "
      ]
    },
    {
      "metadata": {
        "id": "VWH5lA2vde6l",
        "colab_type": "code",
        "colab": {}
      },
      "cell_type": "code",
      "source": [
        "def grad_x(x):\n",
        "    return x"
      ],
      "execution_count": 0,
      "outputs": []
    },
    {
      "metadata": {
        "id": "3nkGwUWhde6p",
        "colab_type": "text"
      },
      "cell_type": "markdown",
      "source": [
        "## $y$の偏微分値を返す関数"
      ]
    },
    {
      "metadata": {
        "id": "F2NtI-Qyde6r",
        "colab_type": "code",
        "colab": {}
      },
      "cell_type": "code",
      "source": [
        "def grad_y(y):\n",
        "    return 10.0 * y"
      ],
      "execution_count": 0,
      "outputs": []
    },
    {
      "metadata": {
        "id": "TUxTm0kDde6t",
        "colab_type": "text"
      },
      "cell_type": "markdown",
      "source": [
        "## 初期値の設定"
      ]
    },
    {
      "metadata": {
        "id": "5ufhqoSfde6u",
        "colab_type": "code",
        "colab": {}
      },
      "cell_type": "code",
      "source": [
        "xt = 4.\n",
        "yt = 1."
      ],
      "execution_count": 0,
      "outputs": []
    },
    {
      "metadata": {
        "id": "dBmDrEzMde6w",
        "colab_type": "text"
      },
      "cell_type": "markdown",
      "source": [
        "## ステップ係数の設定"
      ]
    },
    {
      "metadata": {
        "id": "YkaylJN7de6x",
        "colab_type": "code",
        "colab": {}
      },
      "cell_type": "code",
      "source": [
        "alpha = 0.18"
      ],
      "execution_count": 0,
      "outputs": []
    },
    {
      "metadata": {
        "id": "Zxh1oh2Zde6z",
        "colab_type": "text"
      },
      "cell_type": "markdown",
      "source": [
        "## 勾配法の反復計算"
      ]
    },
    {
      "metadata": {
        "id": "cGoDW_AOde6z",
        "colab_type": "code",
        "colab": {}
      },
      "cell_type": "code",
      "source": [
        "for i in range(20):\n",
        "    xt = xt - alpha * grad_x(xt)\n",
        "    yt = yt - alpha * grad_y(yt)\n",
        "    print(i, xt, yt)"
      ],
      "execution_count": 0,
      "outputs": []
    },
    {
      "metadata": {
        "id": "PNSwbstXkNtu",
        "colab_type": "text"
      },
      "cell_type": "markdown",
      "source": [
        "## 探索点の軌跡を表示してみよう"
      ]
    },
    {
      "metadata": {
        "id": "Tclp_Y_ede61",
        "colab_type": "code",
        "colab": {}
      },
      "cell_type": "code",
      "source": [
        "import matplotlib.pyplot as plt"
      ],
      "execution_count": 0,
      "outputs": []
    },
    {
      "metadata": {
        "id": "P6SP-pLmd7yH",
        "colab_type": "code",
        "colab": {}
      },
      "cell_type": "code",
      "source": [
        "xt = 4.\n",
        "yt = 1.\n",
        "alpha = 0.18\n",
        "\n",
        "x_list = []\n",
        "y_list = []\n",
        "ind_list = []\n",
        "err_list = []\n",
        "for i in range(20):\n",
        "    xt = xt - alpha * grad_x(xt)\n",
        "    yt = yt - alpha * grad_y(yt)\n",
        "    x_list.append(xt)\n",
        "    y_list.append(yt)\n",
        "    ind_list.append(i)\n",
        "    err_list.append(xt*xt+yt*yt)"
      ],
      "execution_count": 0,
      "outputs": []
    },
    {
      "metadata": {
        "id": "A3o6naXsjdlM",
        "colab_type": "text"
      },
      "cell_type": "markdown",
      "source": [
        "## 探索点列を表示する。 "
      ]
    },
    {
      "metadata": {
        "id": "92_-TPIAeXMO",
        "colab_type": "code",
        "colab": {}
      },
      "cell_type": "code",
      "source": [
        "plt.plot(x_list, y_list, color=\"red\", marker=\"o\")"
      ],
      "execution_count": 0,
      "outputs": []
    },
    {
      "metadata": {
        "id": "WvMwWxy7mUBF",
        "colab_type": "text"
      },
      "cell_type": "markdown",
      "source": [
        "## 二乗誤差値を表示する"
      ]
    },
    {
      "metadata": {
        "id": "VQMY3MqFloCf",
        "colab_type": "code",
        "colab": {}
      },
      "cell_type": "code",
      "source": [
        "plt.plot(ind_list, err_list, color=\"red\", marker=\"o\")"
      ],
      "execution_count": 0,
      "outputs": []
    },
    {
      "metadata": {
        "id": "kcImBSxliW6p",
        "colab_type": "text"
      },
      "cell_type": "markdown",
      "source": [
        "## 演習課題\n",
        "\n",
        "* 学習係数が0.2の場合またはそれ以上に大きい場合を試してみよ。\n",
        "* 学習係数が小さい場合、例えば、0.05, 0.005の場合を試してみよ。\n",
        "* 他の初期点からスタートしてみよ。例えば、x軸上の点など。"
      ]
    },
    {
      "metadata": {
        "id": "JhM0J7WprERD",
        "colab_type": "code",
        "colab": {}
      },
      "cell_type": "code",
      "source": [
        ""
      ],
      "execution_count": 0,
      "outputs": []
    }
  ]
}