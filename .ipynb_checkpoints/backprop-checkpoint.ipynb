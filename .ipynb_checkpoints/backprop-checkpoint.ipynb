{
 "cells": [
  {
   "cell_type": "markdown",
   "metadata": {
    "colab_type": "text",
    "id": "VepISgYVrw4j"
   },
   "source": [
    "# AND関数の学習"
   ]
  },
  {
   "cell_type": "markdown",
   "metadata": {
    "colab_type": "text",
    "id": "u7835iOjsEp4"
   },
   "source": [
    "## pytorchの最新版をインストールする"
   ]
  },
  {
   "cell_type": "code",
   "execution_count": null,
   "metadata": {
    "colab": {},
    "colab_type": "code",
    "id": "E8Au4u5Rj0nW"
   },
   "outputs": [],
   "source": [
    "# http://pytorch.org/\n",
    "from os import path\n",
    "from wheel.pep425tags import get_abbr_impl, get_impl_ver, get_abi_tag\n",
    "platform = '{}{}-{}'.format(get_abbr_impl(), get_impl_ver(), get_abi_tag())\n",
    "\n",
    "accelerator = 'cu80' if path.exists('/opt/bin/nvidia-smi') else 'cpu'\n",
    "\n",
    "!pip install -q http://download.pytorch.org/whl/{accelerator}/torch-0.4.1-{platform}-linux_x86_64.whl torchvision\n",
    "!pip install tqdm\n",
    "import torch\n",
    "print(torch.__version__)"
   ]
  },
  {
   "cell_type": "markdown",
   "metadata": {
    "colab_type": "text",
    "id": "UV9Vec8ZkQ5W"
   },
   "source": [
    "## 必要なパッケージのインポート"
   ]
  },
  {
   "cell_type": "code",
   "execution_count": null,
   "metadata": {
    "colab": {},
    "colab_type": "code",
    "id": "n5MvAxAOj7Le"
   },
   "outputs": [],
   "source": [
    "import torch\n",
    "from torch.autograd import Variable\n",
    "import torch.nn as nn        # ネットワーク構築用\n",
    "import torch.optim as optim  # 最適化関数\n",
    "import torch.nn.functional as F  # ネットワーク用の様々な関数"
   ]
  },
  {
   "cell_type": "markdown",
   "metadata": {
    "colab_type": "text",
    "id": "NSEkME4akk8L"
   },
   "source": [
    "## グローバル変数の定義"
   ]
  },
  {
   "cell_type": "code",
   "execution_count": null,
   "metadata": {
    "colab": {},
    "colab_type": "code",
    "id": "v60RivIgj-rD"
   },
   "outputs": [],
   "source": [
    "mb_size = 10"
   ]
  },
  {
   "cell_type": "markdown",
   "metadata": {
    "colab_type": "text",
    "id": "2ooKNCFlkpuy"
   },
   "source": [
    "## ニューラルネットワークの定義"
   ]
  },
  {
   "cell_type": "code",
   "execution_count": null,
   "metadata": {
    "colab": {},
    "colab_type": "code",
    "id": "f5_wW7aPkABi"
   },
   "outputs": [],
   "source": [
    "class Net(nn.Module):\n",
    "    def __init__(self):\n",
    "        super(Net, self).__init__()\n",
    "        self.fc1 = nn.Linear(2, 2)  # 名前はlinear だが Ax + b のアフィン変換の形\n",
    "        self.fc2 = nn.Linear(2, 2)\n",
    "\n",
    "    def forward(self, x):\n",
    "        x = torch.sigmoid(self.fc1(x))\n",
    "        x = torch.sigmoid(self.fc2(x))\n",
    "        return x"
   ]
  },
  {
   "cell_type": "markdown",
   "metadata": {
    "colab_type": "text",
    "id": "MgTnFyZwk0P1"
   },
   "source": [
    "## インスタンス作成"
   ]
  },
  {
   "cell_type": "code",
   "execution_count": null,
   "metadata": {
    "colab": {},
    "colab_type": "code",
    "id": "sVGt1XyMkDOg"
   },
   "outputs": [],
   "source": [
    "model = Net()  # モデルインスタンス作成\n",
    "loss_func = nn.MSELoss() # Loss関数の指定\n",
    "optimizer = optim.Adam(model.parameters(), lr=0.1) # Optimizerの指定\n",
    "running_loss = 0.0 # 平均ロス値"
   ]
  },
  {
   "cell_type": "markdown",
   "metadata": {
    "colab_type": "text",
    "id": "Omuqklpbk7NF"
   },
   "source": [
    "## 訓練ループ"
   ]
  },
  {
   "cell_type": "code",
   "execution_count": null,
   "metadata": {
    "colab": {},
    "colab_type": "code",
    "id": "KZRWU16-kGZh"
   },
   "outputs": [],
   "source": [
    "for i in range(100):\n",
    "    # フィードするデータの作成\n",
    "    inputs = torch.bernoulli(0.5 * torch.ones(mb_size, 2))  # 確率0.5で1となるベルヌーイ分布\n",
    "    labels = torch.Tensor(mb_size, 2)\n",
    "    for j in range(mb_size):\n",
    "        if (inputs[j, 0] == 1.0) and (inputs[j, 1] == 1.0):\n",
    "            labels[j, 0] = 1.0\n",
    "            labels[j, 1] = 0.0\n",
    "        else:\n",
    "            labels[j, 0] = 0.0\n",
    "            labels[j, 1] = 1.0\n",
    "\n",
    "    optimizer.zero_grad()  # optimizerの初期化\n",
    "\n",
    "    outputs = model(inputs)  # 推論計算\n",
    "    loss = loss_func(outputs, labels)  # 損失関数の定義\n",
    "\n",
    "    loss.backward()  # バックプロパゲーション\n",
    "    optimizer.step()  # パラメータ更新\n",
    "\n",
    "    # ロスの表示\n",
    "    print('[%5d] loss: %.3f' % (i + 1, loss.item()))"
   ]
  },
  {
   "cell_type": "markdown",
   "metadata": {
    "colab_type": "text",
    "id": "hzMMll4qk-rS"
   },
   "source": [
    "## 学習結果の評価"
   ]
  },
  {
   "cell_type": "code",
   "execution_count": null,
   "metadata": {
    "colab": {},
    "colab_type": "code",
    "id": "khOsX_dakI6M"
   },
   "outputs": [],
   "source": [
    "# 性能の評価\n",
    "inputs = torch.Tensor(1, 2)\n",
    "inputs.data[0, 0] = 0.0\n",
    "inputs.data[0, 1] = 0.0\n",
    "\n",
    "outputs = model(inputs)\n",
    "print('0 & 0 = %.4f' % (outputs.data[0, 0]))\n",
    "\n",
    "inputs.data[0, 0] = 0.0\n",
    "inputs.data[0, 1] = 1.0\n",
    "outputs = model(inputs)\n",
    "print('0 & 1 = %.4f' % (outputs.data[0, 0]))\n",
    "\n",
    "inputs.data[0, 0] = 1.0\n",
    "inputs.data[0, 1] = 0.0\n",
    "outputs = model(inputs)\n",
    "print('1 & 0 = %.4f' % (outputs.data[0, 0]))\n",
    "\n",
    "inputs.data[0, 0] = 1.0\n",
    "inputs.data[0, 1] = 1.0\n",
    "outputs = model(inputs)\n",
    "print('1 & 1 = %.4f' % (outputs.data[0, 0]))"
   ]
  },
  {
   "cell_type": "markdown",
   "metadata": {},
   "source": [
    "## 演習課題\n",
    "* 学習の訓練ループ数を変えてみて実行してみよう。たとえば10回、1000回など。学習結果がどのように変わるだろうか。\n",
    "* 他の活性化関数を試してみよう。例えば、relu関数を利用する場合は、torch.sigmoidのところをtorch.reluに変えればOK\n",
    "* OR 関数を学習できるようにコードを変更せよ（簡単）。\n",
    "* XOR(排他的論理和)を学習するようにコードを変更せよ（すこし難しい）。"
   ]
  }
 ],
 "metadata": {
  "colab": {
   "collapsed_sections": [],
   "name": "backprop.ipynb",
   "provenance": [],
   "version": "0.3.2"
  },
  "kernelspec": {
   "display_name": "Python 3",
   "language": "python",
   "name": "python3"
  },
  "language_info": {
   "codemirror_mode": {
    "name": "ipython",
    "version": 3
   },
   "file_extension": ".py",
   "mimetype": "text/x-python",
   "name": "python",
   "nbconvert_exporter": "python",
   "pygments_lexer": "ipython3",
   "version": "3.6.5"
  }
 },
 "nbformat": 4,
 "nbformat_minor": 2
}
