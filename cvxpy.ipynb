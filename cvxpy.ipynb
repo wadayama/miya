{
  "nbformat": 4,
  "nbformat_minor": 0,
  "metadata": {
    "colab": {
      "name": "cvxpy",
      "version": "0.3.2",
      "provenance": []
    },
    "kernelspec": {
      "name": "python3",
      "display_name": "Python 3"
    }
  },
  "cells": [
    {
      "metadata": {
        "id": "1L7gKVg4CZ7J",
        "colab_type": "text"
      },
      "cell_type": "markdown",
      "source": [
        "# 凸計画問題ソルバ cvpx をつかってみよう"
      ]
    },
    {
      "metadata": {
        "id": "_PauMkwMCePy",
        "colab_type": "text"
      },
      "cell_type": "markdown",
      "source": [
        "## まずcvpx をインストールする"
      ]
    },
    {
      "metadata": {
        "id": "T4kZl_byCXWC",
        "colab_type": "code",
        "colab": {}
      },
      "cell_type": "code",
      "source": [
        "! pip install cvxpy"
      ],
      "execution_count": 0,
      "outputs": []
    },
    {
      "metadata": {
        "id": "iaEQqOxODA7D",
        "colab_type": "text"
      },
      "cell_type": "markdown",
      "source": [
        "## cvx パッケージをインポートする"
      ]
    },
    {
      "metadata": {
        "id": "7QxhoXUNCb6y",
        "colab_type": "code",
        "colab": {}
      },
      "cell_type": "code",
      "source": [
        "import cvxpy as cvx"
      ],
      "execution_count": 0,
      "outputs": []
    },
    {
      "metadata": {
        "id": "th8rLOUwDLYy",
        "colab_type": "text"
      },
      "cell_type": "markdown",
      "source": [
        "## 最適化変数を準備する"
      ]
    },
    {
      "metadata": {
        "id": "idcAl75yDH0_",
        "colab_type": "code",
        "colab": {}
      },
      "cell_type": "code",
      "source": [
        "x = cvx.Variable()\n",
        "y = cvx.Variable()"
      ],
      "execution_count": 0,
      "outputs": []
    },
    {
      "metadata": {
        "id": "MRpbOklBDVbG",
        "colab_type": "text"
      },
      "cell_type": "markdown",
      "source": [
        "## 凸制約条件を定義する"
      ]
    },
    {
      "metadata": {
        "id": "lUFOYPwADPeX",
        "colab_type": "code",
        "colab": {}
      },
      "cell_type": "code",
      "source": [
        "constraints = [x + y == 1, x - y >= 1]"
      ],
      "execution_count": 0,
      "outputs": []
    },
    {
      "metadata": {
        "id": "wNoDIneoDtQK",
        "colab_type": "text"
      },
      "cell_type": "markdown",
      "source": [
        "## 目的関数を定義する"
      ]
    },
    {
      "metadata": {
        "id": "sxVjh4qhDYDg",
        "colab_type": "code",
        "colab": {}
      },
      "cell_type": "code",
      "source": [
        "obj = cvx.Minimize((x - y)**2)"
      ],
      "execution_count": 0,
      "outputs": []
    },
    {
      "metadata": {
        "id": "pXgXHPSDD2XO",
        "colab_type": "text"
      },
      "cell_type": "markdown",
      "source": [
        "## 問題インスタンスの生成"
      ]
    },
    {
      "metadata": {
        "id": "8AcqatMWDzbs",
        "colab_type": "code",
        "colab": {}
      },
      "cell_type": "code",
      "source": [
        "prob = cvx.Problem(obj, constraints)"
      ],
      "execution_count": 0,
      "outputs": []
    },
    {
      "metadata": {
        "id": "qf3RZvPTEBTB",
        "colab_type": "text"
      },
      "cell_type": "markdown",
      "source": [
        "## 問題を解く"
      ]
    },
    {
      "metadata": {
        "id": "mw8iMNvBD-sv",
        "colab_type": "code",
        "colab": {}
      },
      "cell_type": "code",
      "source": [
        "prob.solve()"
      ],
      "execution_count": 0,
      "outputs": []
    },
    {
      "metadata": {
        "id": "8aM_zmViEYsf",
        "colab_type": "text"
      },
      "cell_type": "markdown",
      "source": [
        "## 結果を表示する"
      ]
    },
    {
      "metadata": {
        "id": "rlEKU6BNEGtV",
        "colab_type": "code",
        "colab": {}
      },
      "cell_type": "code",
      "source": [
        "print(\"status:\", prob.status)\n",
        "print(\"optimal value\", prob.value)\n",
        "print(\"optimal var\", x.value, y.value)"
      ],
      "execution_count": 0,
      "outputs": []
    },
    {
      "metadata": {
        "id": "maqoyc95c87s",
        "colab_type": "text"
      },
      "cell_type": "markdown",
      "source": [
        "## 演習課題\n",
        "\n",
        "演習課題のスライドを参照のこと"
      ]
    },
    {
      "metadata": {
        "id": "vJ9IEnuddH9r",
        "colab_type": "code",
        "colab": {}
      },
      "cell_type": "code",
      "source": [
        ""
      ],
      "execution_count": 0,
      "outputs": []
    }
  ]
}